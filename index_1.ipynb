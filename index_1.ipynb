{
 "cells": [
  {
   "attachments": {},
   "cell_type": "markdown",
   "metadata": {},
   "source": [
    "# Kickstarter Projects Analysis\n",
    "- - - \n",
    "### Author: [Ronald Gachoka](https://github.com/rongachoka)\n",
    "\n",
    "## 1. Business Understanding\n",
    "\n",
    "This project aims to analyze the relationship between backer engagement and project success. <br>\n",
    "Investigate factors such as the number of backers, average pledge amounts and determine if there is any correlation between high backer engagement and project success.\n",
    "\n",
    "\n",
    "## 2. Data Understanding\n",
    "\n",
    "This phase is broken down into the following steps:\n",
    "> - Data collection\n",
    "> - Describing the data\n",
    "> - Data exploration\n",
    "> - Verify data quality\n",
    "\n",
    "The data was collected from the Kickstarter Projects at https://www.mavenanalytics.io/data-playground "
   ]
  },
  {
   "attachments": {},
   "cell_type": "markdown",
   "metadata": {},
   "source": [
    "#### Load Libraries"
   ]
  },
  {
   "cell_type": "code",
   "execution_count": 8,
   "metadata": {},
   "outputs": [],
   "source": [
    "## Data\n",
    "\n",
    "import numpy as np\n",
    "import pandas as pd\n",
    "\n",
    "## Visualization\n",
    "import matplotlib.pyplot as plt\n",
    "import seaborn as sns\n",
    "import missingno as msno\n",
    "%matplotlib inline\n",
    "\n",
    "## Statistics\n",
    "import scipy.stats as stats\n",
    "\n",
    "## styling\n",
    "plt.style.use(\"ggplot\")"
   ]
  },
  {
   "attachments": {},
   "cell_type": "markdown",
   "metadata": {},
   "source": [
    "#### Data Collection"
   ]
  },
  {
   "cell_type": "code",
   "execution_count": 4,
   "metadata": {},
   "outputs": [
    {
     "name": "stdout",
     "output_type": "stream",
     "text": [
      "Shape of the dataframe:  (374853, 11)\n",
      "Shape of the dataframe:  (11, 2)\n"
     ]
    },
    {
     "data": {
      "text/html": [
       "<div>\n",
       "<style scoped>\n",
       "    .dataframe tbody tr th:only-of-type {\n",
       "        vertical-align: middle;\n",
       "    }\n",
       "\n",
       "    .dataframe tbody tr th {\n",
       "        vertical-align: top;\n",
       "    }\n",
       "\n",
       "    .dataframe thead th {\n",
       "        text-align: right;\n",
       "    }\n",
       "</style>\n",
       "<table border=\"1\" class=\"dataframe\">\n",
       "  <thead>\n",
       "    <tr style=\"text-align: right;\">\n",
       "      <th></th>\n",
       "      <th>ID</th>\n",
       "      <th>Name</th>\n",
       "      <th>Category</th>\n",
       "      <th>Subcategory</th>\n",
       "      <th>Country</th>\n",
       "      <th>Launched</th>\n",
       "      <th>Deadline</th>\n",
       "      <th>Goal</th>\n",
       "      <th>Pledged</th>\n",
       "      <th>Backers</th>\n",
       "      <th>State</th>\n",
       "    </tr>\n",
       "  </thead>\n",
       "  <tbody>\n",
       "    <tr>\n",
       "      <th>0</th>\n",
       "      <td>1860890148</td>\n",
       "      <td>Grace Jones Does Not Give A F$#% T-Shirt (limi...</td>\n",
       "      <td>Fashion</td>\n",
       "      <td>Fashion</td>\n",
       "      <td>United States</td>\n",
       "      <td>2009-04-21 21:02:48</td>\n",
       "      <td>2009-05-31</td>\n",
       "      <td>1000</td>\n",
       "      <td>625</td>\n",
       "      <td>30</td>\n",
       "      <td>Failed</td>\n",
       "    </tr>\n",
       "    <tr>\n",
       "      <th>1</th>\n",
       "      <td>709707365</td>\n",
       "      <td>CRYSTAL ANTLERS UNTITLED MOVIE</td>\n",
       "      <td>Film &amp; Video</td>\n",
       "      <td>Shorts</td>\n",
       "      <td>United States</td>\n",
       "      <td>2009-04-23 00:07:53</td>\n",
       "      <td>2009-07-20</td>\n",
       "      <td>80000</td>\n",
       "      <td>22</td>\n",
       "      <td>3</td>\n",
       "      <td>Failed</td>\n",
       "    </tr>\n",
       "    <tr>\n",
       "      <th>2</th>\n",
       "      <td>1703704063</td>\n",
       "      <td>drawing for dollars</td>\n",
       "      <td>Art</td>\n",
       "      <td>Illustration</td>\n",
       "      <td>United States</td>\n",
       "      <td>2009-04-24 21:52:03</td>\n",
       "      <td>2009-05-03</td>\n",
       "      <td>20</td>\n",
       "      <td>35</td>\n",
       "      <td>3</td>\n",
       "      <td>Successful</td>\n",
       "    </tr>\n",
       "    <tr>\n",
       "      <th>3</th>\n",
       "      <td>727286</td>\n",
       "      <td>Offline Wikipedia iPhone app</td>\n",
       "      <td>Technology</td>\n",
       "      <td>Software</td>\n",
       "      <td>United States</td>\n",
       "      <td>2009-04-25 17:36:21</td>\n",
       "      <td>2009-07-14</td>\n",
       "      <td>99</td>\n",
       "      <td>145</td>\n",
       "      <td>25</td>\n",
       "      <td>Successful</td>\n",
       "    </tr>\n",
       "    <tr>\n",
       "      <th>4</th>\n",
       "      <td>1622952265</td>\n",
       "      <td>Pantshirts</td>\n",
       "      <td>Fashion</td>\n",
       "      <td>Fashion</td>\n",
       "      <td>United States</td>\n",
       "      <td>2009-04-27 14:10:39</td>\n",
       "      <td>2009-05-26</td>\n",
       "      <td>1900</td>\n",
       "      <td>387</td>\n",
       "      <td>10</td>\n",
       "      <td>Failed</td>\n",
       "    </tr>\n",
       "  </tbody>\n",
       "</table>\n",
       "</div>"
      ],
      "text/plain": [
       "           ID                                               Name  \\\n",
       "0  1860890148  Grace Jones Does Not Give A F$#% T-Shirt (limi...   \n",
       "1   709707365                     CRYSTAL ANTLERS UNTITLED MOVIE   \n",
       "2  1703704063                                drawing for dollars   \n",
       "3      727286                       Offline Wikipedia iPhone app   \n",
       "4  1622952265                                         Pantshirts   \n",
       "\n",
       "       Category   Subcategory        Country             Launched    Deadline  \\\n",
       "0       Fashion       Fashion  United States  2009-04-21 21:02:48  2009-05-31   \n",
       "1  Film & Video        Shorts  United States  2009-04-23 00:07:53  2009-07-20   \n",
       "2           Art  Illustration  United States  2009-04-24 21:52:03  2009-05-03   \n",
       "3    Technology      Software  United States  2009-04-25 17:36:21  2009-07-14   \n",
       "4       Fashion       Fashion  United States  2009-04-27 14:10:39  2009-05-26   \n",
       "\n",
       "    Goal  Pledged  Backers       State  \n",
       "0   1000      625       30      Failed  \n",
       "1  80000       22        3      Failed  \n",
       "2     20       35        3  Successful  \n",
       "3     99      145       25  Successful  \n",
       "4   1900      387       10      Failed  "
      ]
     },
     "execution_count": 4,
     "metadata": {},
     "output_type": "execute_result"
    }
   ],
   "source": [
    "## Kickstarter_projects is loaded and stored in kickstarter_df\n",
    "\n",
    "kickstarter_df = pd.read_csv(\"data/kickstarter_projects.csv\")\n",
    "kickstarter_details = pd.read_csv(\"data/kickstarter_projects_data_dictionary.csv\")\n",
    "\n",
    "## Shape of the dataframe\n",
    "\n",
    "print(\"Shape of the dataframe: \", kickstarter_df.shape)\n",
    "print(\"Shape of the dataframe: \", kickstarter_details.shape)\n",
    "kickstarter_df.head()\n"
   ]
  },
  {
   "cell_type": "code",
   "execution_count": 5,
   "metadata": {},
   "outputs": [
    {
     "data": {
      "text/html": [
       "<div>\n",
       "<style scoped>\n",
       "    .dataframe tbody tr th:only-of-type {\n",
       "        vertical-align: middle;\n",
       "    }\n",
       "\n",
       "    .dataframe tbody tr th {\n",
       "        vertical-align: top;\n",
       "    }\n",
       "\n",
       "    .dataframe thead th {\n",
       "        text-align: right;\n",
       "    }\n",
       "</style>\n",
       "<table border=\"1\" class=\"dataframe\">\n",
       "  <thead>\n",
       "    <tr style=\"text-align: right;\">\n",
       "      <th></th>\n",
       "      <th>Field</th>\n",
       "      <th>Description</th>\n",
       "    </tr>\n",
       "  </thead>\n",
       "  <tbody>\n",
       "    <tr>\n",
       "      <th>0</th>\n",
       "      <td>ID</td>\n",
       "      <td>Internal kickstarter id</td>\n",
       "    </tr>\n",
       "    <tr>\n",
       "      <th>1</th>\n",
       "      <td>Name</td>\n",
       "      <td>Name of the project</td>\n",
       "    </tr>\n",
       "    <tr>\n",
       "      <th>2</th>\n",
       "      <td>Category</td>\n",
       "      <td>Project category</td>\n",
       "    </tr>\n",
       "    <tr>\n",
       "      <th>3</th>\n",
       "      <td>Subcategory</td>\n",
       "      <td>Project subcategory</td>\n",
       "    </tr>\n",
       "    <tr>\n",
       "      <th>4</th>\n",
       "      <td>Country</td>\n",
       "      <td>Country the project is from</td>\n",
       "    </tr>\n",
       "    <tr>\n",
       "      <th>5</th>\n",
       "      <td>Launched</td>\n",
       "      <td>Date the project was launched</td>\n",
       "    </tr>\n",
       "    <tr>\n",
       "      <th>6</th>\n",
       "      <td>Deadline</td>\n",
       "      <td>Deadline date for crowdfunding</td>\n",
       "    </tr>\n",
       "    <tr>\n",
       "      <th>7</th>\n",
       "      <td>Goal</td>\n",
       "      <td>Amount of money the creator needs to complete ...</td>\n",
       "    </tr>\n",
       "    <tr>\n",
       "      <th>8</th>\n",
       "      <td>Pledged</td>\n",
       "      <td>Amount of money pledged by the crowd (USD)</td>\n",
       "    </tr>\n",
       "    <tr>\n",
       "      <th>9</th>\n",
       "      <td>Backers</td>\n",
       "      <td>Number of backers</td>\n",
       "    </tr>\n",
       "    <tr>\n",
       "      <th>10</th>\n",
       "      <td>State</td>\n",
       "      <td>Current condition the project is in (as of 201...</td>\n",
       "    </tr>\n",
       "  </tbody>\n",
       "</table>\n",
       "</div>"
      ],
      "text/plain": [
       "          Field                                        Description\n",
       "0            ID                            Internal kickstarter id\n",
       "1          Name                                Name of the project\n",
       "2      Category                                   Project category\n",
       "3   Subcategory                                Project subcategory\n",
       "4       Country                        Country the project is from\n",
       "5      Launched                      Date the project was launched\n",
       "6      Deadline                     Deadline date for crowdfunding\n",
       "7          Goal  Amount of money the creator needs to complete ...\n",
       "8       Pledged         Amount of money pledged by the crowd (USD)\n",
       "9       Backers                                  Number of backers\n",
       "10        State  Current condition the project is in (as of 201..."
      ]
     },
     "execution_count": 5,
     "metadata": {},
     "output_type": "execute_result"
    }
   ],
   "source": [
    "kickstarter_details"
   ]
  },
  {
   "attachments": {},
   "cell_type": "markdown",
   "metadata": {},
   "source": [
    "The kickstarter_df has 374,853 rows and 11 columns <br>\n",
    "The kickstarter_details has 11 rows and 2 columns\n",
    "\n",
    "The kickstarter_details will be used along the kickstart_df to provide additional details to what each of the column means.\n",
    "\n",
    "**Categorical columns (8)** <br>\n",
    "\n",
    "- ID - Internal kickstarter id <br>\n",
    "- Name - Name of the project <br>\n",
    "- Category - Kickstarter project category <br>\n",
    "- Subcategory - Kickstarter project subcategory <br>\n",
    "- Country - Country the project is from <br>\n",
    "- Launched - Date the project was launched <br>\n",
    "- Deadline - Deadline date for crowdfunding <br>\n",
    "- State - Current condition the project is in (as of 2018-01-02)\n",
    "\n",
    "**Numerical columns (3)** <br>\n",
    "\n",
    "- Goal - Amount of money the creator needs to complete the project (USD) <br>\n",
    "- Pledged - Amount of money pledged by the crowd (USD) <br>\n",
    "- Backers - Number of backers <br>"
   ]
  },
  {
   "cell_type": "code",
   "execution_count": 6,
   "metadata": {},
   "outputs": [
    {
     "name": "stdout",
     "output_type": "stream",
     "text": [
      "<class 'pandas.core.frame.DataFrame'>\n",
      "RangeIndex: 374853 entries, 0 to 374852\n",
      "Data columns (total 11 columns):\n",
      " #   Column       Non-Null Count   Dtype \n",
      "---  ------       --------------   ----- \n",
      " 0   ID           374853 non-null  int64 \n",
      " 1   Name         374853 non-null  object\n",
      " 2   Category     374853 non-null  object\n",
      " 3   Subcategory  374853 non-null  object\n",
      " 4   Country      374853 non-null  object\n",
      " 5   Launched     374853 non-null  object\n",
      " 6   Deadline     374853 non-null  object\n",
      " 7   Goal         374853 non-null  int64 \n",
      " 8   Pledged      374853 non-null  int64 \n",
      " 9   Backers      374853 non-null  int64 \n",
      " 10  State        374853 non-null  object\n",
      "dtypes: int64(4), object(7)\n",
      "memory usage: 31.5+ MB\n"
     ]
    }
   ],
   "source": [
    "## Data Description\n",
    "\n",
    "kickstarter_df.info()"
   ]
  },
  {
   "cell_type": "code",
   "execution_count": 7,
   "metadata": {},
   "outputs": [
    {
     "data": {
      "image/png": "[encoded data removed]",
      "text/plain": [
       "<Figure size 1000x500 with 3 Axes>"
      ]
     },
     "metadata": {},
     "output_type": "display_data"
    }
   ],
   "source": [
    "## Visualizing the missing values\n",
    "\n",
    "msno.bar(kickstarter_df,color=\"steelblue\", figsize = (10, 5), fontsize = 10);"
   ]
  },
  {
   "cell_type": "markdown",
   "metadata": {},
   "source": [
    "- Initial overview of the data looks good as there are no missing values in any of the columns"
   ]
  },
  {
   "cell_type": "markdown",
   "metadata": {},
   "source": [
    "### Data pre-processing\n",
    "\n",
    "This part of the project will add in new columns needed for analysis as well as modify datatypes\n"
   ]
  },
  {
   "cell_type": "code",
   "execution_count": 37,
   "metadata": {},
   "outputs": [
    {
     "name": "stdout",
     "output_type": "stream",
     "text": [
      "<class 'pandas.core.frame.DataFrame'>\n",
      "Index: 372061 entries, 0 to 374852\n",
      "Data columns (total 12 columns):\n",
      " #   Column            Non-Null Count   Dtype         \n",
      "---  ------            --------------   -----         \n",
      " 0   ID                372061 non-null  object        \n",
      " 1   Name              372061 non-null  object        \n",
      " 2   Category          372061 non-null  object        \n",
      " 3   Subcategory       372061 non-null  object        \n",
      " 4   Country           372061 non-null  object        \n",
      " 5   Launched          372061 non-null  datetime64[ns]\n",
      " 6   Deadline          372061 non-null  datetime64[ns]\n",
      " 7   Goal              372061 non-null  int64         \n",
      " 8   Pledged           372061 non-null  int64         \n",
      " 9   Backers           372061 non-null  int64         \n",
      " 10  State             372061 non-null  object        \n",
      " 11  Project_Duration  372061 non-null  int64         \n",
      "dtypes: datetime64[ns](2), int64(4), object(6)\n",
      "memory usage: 36.9+ MB\n"
     ]
    }
   ],
   "source": [
    "## Changing data types\n",
    "\n",
    "kickstarter_df[\"Deadline\"] = pd.to_datetime(kickstarter_df[\"Deadline\"])\n",
    "kickstarter_df[\"Launched\"] = pd.to_datetime(kickstarter_df[\"Launched\"])\n",
    "kickstarter_df[\"ID\"] = kickstarter_df[\"ID\"].astype(\"object\")\n",
    "\n",
    "## Creating new columns\n",
    "\n",
    "kickstarter_df[\"Project_Duration\"] = (kickstarter_df[\"Deadline\"] - kickstarter_df[\"Launched\"]).dt.days\n",
    "\n",
    "kickstarter_df.info()"
   ]
  },
  {
   "cell_type": "markdown",
   "metadata": {},
   "source": [
    "### Column analysis\n",
    "\n",
    "This section will explore each column to see their distributions as well any additional insights that can be drawn"
   ]
  },
  {
   "cell_type": "markdown",
   "metadata": {},
   "source": [
    "**2.1 ID**\n",
    "\n",
    "> - Unique Kickstarter project ID"
   ]
  },
  {
   "cell_type": "code",
   "execution_count": 17,
   "metadata": {},
   "outputs": [
    {
     "data": {
      "text/plain": [
       "0"
      ]
     },
     "execution_count": 17,
     "metadata": {},
     "output_type": "execute_result"
    }
   ],
   "source": [
    "## Checking for duplicates\n",
    "\n",
    "kickstarter_df[\"ID\"].duplicated().sum()"
   ]
  },
  {
   "cell_type": "markdown",
   "metadata": {},
   "source": [
    "There are no duplicated ID's in this dataset "
   ]
  },
  {
   "cell_type": "markdown",
   "metadata": {},
   "source": [
    "**2.2 Name**\n",
    "> - Kickstarter project name"
   ]
  },
  {
   "cell_type": "code",
   "execution_count": 26,
   "metadata": {},
   "outputs": [
    {
     "name": "stdout",
     "output_type": "stream",
     "text": [
      "Name\n",
      "New EP/Music Development      13\n",
      "Canceled (Canceled)           13\n",
      "N/A (Canceled)                11\n",
      "Music Video                   11\n",
      "Cancelled (Canceled)          10\n",
      "New EP / Music Development    10\n",
      "The Journey                    9\n",
      "Reflections                    9\n",
      "Debut Album                    9\n",
      "A Midsummer Night's Dream      8\n",
      "Name: count, dtype: int64\n"
     ]
    }
   ],
   "source": [
    "## Checking for duplicates\n",
    "\n",
    "kickstarter_df[\"Name\"].duplicated().sum()\n",
    "\n",
    "duplicate_names = kickstarter_df[\"Name\"].value_counts()\n",
    "duplicate_names = duplicate_names[duplicate_names > 1]\n",
    "\n",
    "print(duplicate_names[:10])"
   ]
  },
  {
   "cell_type": "code",
   "execution_count": 20,
   "metadata": {},
   "outputs": [
    {
     "data": {
      "text/html": [
       "<div>\n",
       "<style scoped>\n",
       "    .dataframe tbody tr th:only-of-type {\n",
       "        vertical-align: middle;\n",
       "    }\n",
       "\n",
       "    .dataframe tbody tr th {\n",
       "        vertical-align: top;\n",
       "    }\n",
       "\n",
       "    .dataframe thead th {\n",
       "        text-align: right;\n",
       "    }\n",
       "</style>\n",
       "<table border=\"1\" class=\"dataframe\">\n",
       "  <thead>\n",
       "    <tr style=\"text-align: right;\">\n",
       "      <th></th>\n",
       "      <th>ID</th>\n",
       "      <th>Name</th>\n",
       "      <th>Category</th>\n",
       "      <th>Subcategory</th>\n",
       "      <th>Country</th>\n",
       "      <th>Launched</th>\n",
       "      <th>Deadline</th>\n",
       "      <th>Goal</th>\n",
       "      <th>Pledged</th>\n",
       "      <th>Backers</th>\n",
       "      <th>State</th>\n",
       "      <th>Project_Duration</th>\n",
       "    </tr>\n",
       "  </thead>\n",
       "  <tbody>\n",
       "    <tr>\n",
       "      <th>209493</th>\n",
       "      <td>1722909259</td>\n",
       "      <td>New EP/Music Development</td>\n",
       "      <td>Music</td>\n",
       "      <td>Metal</td>\n",
       "      <td>United States</td>\n",
       "      <td>2015-03-18 16:10:38</td>\n",
       "      <td>2015-04-22</td>\n",
       "      <td>3000</td>\n",
       "      <td>123</td>\n",
       "      <td>6</td>\n",
       "      <td>Failed</td>\n",
       "      <td>34</td>\n",
       "    </tr>\n",
       "    <tr>\n",
       "      <th>209496</th>\n",
       "      <td>1068645001</td>\n",
       "      <td>New EP/Music Development</td>\n",
       "      <td>Music</td>\n",
       "      <td>Rock</td>\n",
       "      <td>United States</td>\n",
       "      <td>2015-03-18 16:20:34</td>\n",
       "      <td>2015-04-23</td>\n",
       "      <td>3500</td>\n",
       "      <td>1</td>\n",
       "      <td>1</td>\n",
       "      <td>Failed</td>\n",
       "      <td>35</td>\n",
       "    </tr>\n",
       "    <tr>\n",
       "      <th>209504</th>\n",
       "      <td>191370364</td>\n",
       "      <td>New EP/Music Development</td>\n",
       "      <td>Music</td>\n",
       "      <td>Metal</td>\n",
       "      <td>United States</td>\n",
       "      <td>2015-03-18 16:40:13</td>\n",
       "      <td>2015-04-22</td>\n",
       "      <td>3000</td>\n",
       "      <td>367</td>\n",
       "      <td>8</td>\n",
       "      <td>Failed</td>\n",
       "      <td>34</td>\n",
       "    </tr>\n",
       "    <tr>\n",
       "      <th>209508</th>\n",
       "      <td>871571287</td>\n",
       "      <td>New EP/Music Development</td>\n",
       "      <td>Music</td>\n",
       "      <td>Rock</td>\n",
       "      <td>United States</td>\n",
       "      <td>2015-03-18 16:58:43</td>\n",
       "      <td>2015-04-23</td>\n",
       "      <td>2500</td>\n",
       "      <td>56</td>\n",
       "      <td>3</td>\n",
       "      <td>Failed</td>\n",
       "      <td>35</td>\n",
       "    </tr>\n",
       "    <tr>\n",
       "      <th>209513</th>\n",
       "      <td>714957298</td>\n",
       "      <td>New EP/Music Development</td>\n",
       "      <td>Music</td>\n",
       "      <td>Rock</td>\n",
       "      <td>United States</td>\n",
       "      <td>2015-03-18 17:20:08</td>\n",
       "      <td>2015-04-23</td>\n",
       "      <td>3500</td>\n",
       "      <td>1</td>\n",
       "      <td>1</td>\n",
       "      <td>Failed</td>\n",
       "      <td>35</td>\n",
       "    </tr>\n",
       "  </tbody>\n",
       "</table>\n",
       "</div>"
      ],
      "text/plain": [
       "                ID                      Name Category Subcategory  \\\n",
       "209493  1722909259  New EP/Music Development    Music       Metal   \n",
       "209496  1068645001  New EP/Music Development    Music        Rock   \n",
       "209504   191370364  New EP/Music Development    Music       Metal   \n",
       "209508   871571287  New EP/Music Development    Music        Rock   \n",
       "209513   714957298  New EP/Music Development    Music        Rock   \n",
       "\n",
       "              Country            Launched   Deadline  Goal  Pledged  Backers  \\\n",
       "209493  United States 2015-03-18 16:10:38 2015-04-22  3000      123        6   \n",
       "209496  United States 2015-03-18 16:20:34 2015-04-23  3500        1        1   \n",
       "209504  United States 2015-03-18 16:40:13 2015-04-22  3000      367        8   \n",
       "209508  United States 2015-03-18 16:58:43 2015-04-23  2500       56        3   \n",
       "209513  United States 2015-03-18 17:20:08 2015-04-23  3500        1        1   \n",
       "\n",
       "         State  Project_Duration  \n",
       "209493  Failed                34  \n",
       "209496  Failed                35  \n",
       "209504  Failed                34  \n",
       "209508  Failed                35  \n",
       "209513  Failed                35  "
      ]
     },
     "execution_count": 20,
     "metadata": {},
     "output_type": "execute_result"
    }
   ],
   "source": [
    "## Validating some of the duplicates\n",
    "\n",
    "kickstarter_df[kickstarter_df[\"Name\"] == \"New EP/Music Development\"][:5]"
   ]
  },
  {
   "cell_type": "code",
   "execution_count": 21,
   "metadata": {},
   "outputs": [
    {
     "data": {
      "text/html": [
       "<div>\n",
       "<style scoped>\n",
       "    .dataframe tbody tr th:only-of-type {\n",
       "        vertical-align: middle;\n",
       "    }\n",
       "\n",
       "    .dataframe tbody tr th {\n",
       "        vertical-align: top;\n",
       "    }\n",
       "\n",
       "    .dataframe thead th {\n",
       "        text-align: right;\n",
       "    }\n",
       "</style>\n",
       "<table border=\"1\" class=\"dataframe\">\n",
       "  <thead>\n",
       "    <tr style=\"text-align: right;\">\n",
       "      <th></th>\n",
       "      <th>ID</th>\n",
       "      <th>Name</th>\n",
       "      <th>Category</th>\n",
       "      <th>Subcategory</th>\n",
       "      <th>Country</th>\n",
       "      <th>Launched</th>\n",
       "      <th>Deadline</th>\n",
       "      <th>Goal</th>\n",
       "      <th>Pledged</th>\n",
       "      <th>Backers</th>\n",
       "      <th>State</th>\n",
       "      <th>Project_Duration</th>\n",
       "    </tr>\n",
       "  </thead>\n",
       "  <tbody>\n",
       "    <tr>\n",
       "      <th>90343</th>\n",
       "      <td>855901312</td>\n",
       "      <td>The Journey</td>\n",
       "      <td>Film &amp; Video</td>\n",
       "      <td>Documentary</td>\n",
       "      <td>United Kingdom</td>\n",
       "      <td>2013-04-04 16:00:02</td>\n",
       "      <td>2013-06-03</td>\n",
       "      <td>124609</td>\n",
       "      <td>67511</td>\n",
       "      <td>219</td>\n",
       "      <td>Failed</td>\n",
       "      <td>59</td>\n",
       "    </tr>\n",
       "    <tr>\n",
       "      <th>132254</th>\n",
       "      <td>948450785</td>\n",
       "      <td>The Journey</td>\n",
       "      <td>Film &amp; Video</td>\n",
       "      <td>Documentary</td>\n",
       "      <td>United States</td>\n",
       "      <td>2014-03-06 22:40:05</td>\n",
       "      <td>2014-03-27</td>\n",
       "      <td>15000</td>\n",
       "      <td>181</td>\n",
       "      <td>9</td>\n",
       "      <td>Failed</td>\n",
       "      <td>20</td>\n",
       "    </tr>\n",
       "    <tr>\n",
       "      <th>147668</th>\n",
       "      <td>204201491</td>\n",
       "      <td>The Journey</td>\n",
       "      <td>Journalism</td>\n",
       "      <td>Photo</td>\n",
       "      <td>United States</td>\n",
       "      <td>2014-06-16 20:36:47</td>\n",
       "      <td>2014-07-16</td>\n",
       "      <td>12500</td>\n",
       "      <td>5</td>\n",
       "      <td>1</td>\n",
       "      <td>Failed</td>\n",
       "      <td>29</td>\n",
       "    </tr>\n",
       "    <tr>\n",
       "      <th>158562</th>\n",
       "      <td>1417896019</td>\n",
       "      <td>The Journey</td>\n",
       "      <td>Art</td>\n",
       "      <td>Installations</td>\n",
       "      <td>United Kingdom</td>\n",
       "      <td>2014-07-24 18:19:56</td>\n",
       "      <td>2014-08-10</td>\n",
       "      <td>1001</td>\n",
       "      <td>67</td>\n",
       "      <td>3</td>\n",
       "      <td>Failed</td>\n",
       "      <td>16</td>\n",
       "    </tr>\n",
       "    <tr>\n",
       "      <th>196743</th>\n",
       "      <td>1757487848</td>\n",
       "      <td>The Journey</td>\n",
       "      <td>Film &amp; Video</td>\n",
       "      <td>Television</td>\n",
       "      <td>United States</td>\n",
       "      <td>2015-01-28 17:37:59</td>\n",
       "      <td>2015-02-27</td>\n",
       "      <td>22000</td>\n",
       "      <td>40357</td>\n",
       "      <td>253</td>\n",
       "      <td>Successful</td>\n",
       "      <td>29</td>\n",
       "    </tr>\n",
       "  </tbody>\n",
       "</table>\n",
       "</div>"
      ],
      "text/plain": [
       "                ID         Name      Category    Subcategory         Country  \\\n",
       "90343    855901312  The Journey  Film & Video    Documentary  United Kingdom   \n",
       "132254   948450785  The Journey  Film & Video    Documentary   United States   \n",
       "147668   204201491  The Journey    Journalism          Photo   United States   \n",
       "158562  1417896019  The Journey           Art  Installations  United Kingdom   \n",
       "196743  1757487848  The Journey  Film & Video     Television   United States   \n",
       "\n",
       "                  Launched   Deadline    Goal  Pledged  Backers       State  \\\n",
       "90343  2013-04-04 16:00:02 2013-06-03  124609    67511      219      Failed   \n",
       "132254 2014-03-06 22:40:05 2014-03-27   15000      181        9      Failed   \n",
       "147668 2014-06-16 20:36:47 2014-07-16   12500        5        1      Failed   \n",
       "158562 2014-07-24 18:19:56 2014-08-10    1001       67        3      Failed   \n",
       "196743 2015-01-28 17:37:59 2015-02-27   22000    40357      253  Successful   \n",
       "\n",
       "        Project_Duration  \n",
       "90343                 59  \n",
       "132254                20  \n",
       "147668                29  \n",
       "158562                16  \n",
       "196743                29  "
      ]
     },
     "execution_count": 21,
     "metadata": {},
     "output_type": "execute_result"
    }
   ],
   "source": [
    "kickstarter_df[kickstarter_df[\"Name\"] == \"The Journey\"][:5]"
   ]
  },
  {
   "cell_type": "markdown",
   "metadata": {},
   "source": [
    "The duplicated names may cause some confusion but it seems like they are either part of a larger project as seen in \"New EP/Music Development\". Similary when looking at the second case involving \"The Journey\", it follows a similar case where it looks like it may be a similar project just subsets of it with different timelines.\n"
   ]
  },
  {
   "cell_type": "code",
   "execution_count": 28,
   "metadata": {},
   "outputs": [
    {
     "name": "stdout",
     "output_type": "stream",
     "text": [
      "Number of unique names:  372061\n",
      "Number of duplicate names:  2188\n"
     ]
    },
    {
     "data": {
      "text/plain": [
       "0"
      ]
     },
     "execution_count": 28,
     "metadata": {},
     "output_type": "execute_result"
    }
   ],
   "source": [
    "## Unique values in the name column\n",
    "\n",
    "print(\"Number of unique names: \", kickstarter_df[\"Name\"].nunique())\n",
    "print(\"Number of duplicate names: \", len(duplicate_names))\n",
    "\n",
    "## Dropping duplicates\n",
    "\n",
    "kickstarter_df.drop_duplicates(subset = \"Name\", keep = \"first\", inplace = True)\n",
    "\n",
    "## Checking for duplicates\n",
    "\n",
    "kickstarter_df[\"Name\"].duplicated().sum()"
   ]
  },
  {
   "cell_type": "markdown",
   "metadata": {},
   "source": [
    "**2.3 Category**\n",
    "\n",
    "> - Kickstarter project category"
   ]
  },
  {
   "cell_type": "code",
   "execution_count": 36,
   "metadata": {},
   "outputs": [
    {
     "name": "stdout",
     "output_type": "stream",
     "text": [
      "Number of categories:  15\n"
     ]
    },
    {
     "data": {
      "text/plain": [
       "Category\n",
       "Film & Video    16.620662\n",
       "Music           13.239227\n",
       "Publishing      10.520049\n",
       "Games            9.360831\n",
       "Technology       8.707981\n",
       "Design           8.045186\n",
       "Art              7.523497\n",
       "Food             6.569084\n",
       "Fashion          6.114051\n",
       "Theater          2.898449\n",
       "Comics           2.887699\n",
       "Photography      2.875335\n",
       "Crafts           2.357947\n",
       "Journalism       1.272372\n",
       "Dance            1.007630\n",
       "Name: proportion, dtype: float64"
      ]
     },
     "execution_count": 36,
     "metadata": {},
     "output_type": "execute_result"
    }
   ],
   "source": [
    "## Number of categories\n",
    "\n",
    "print(\"Number of categories: \", kickstarter_df[\"Category\"].nunique())\n",
    "\n",
    "## Propotion of categories\n",
    "\n",
    "kickstarter_df[\"Category\"].value_counts(normalize = True) * 100\n"
   ]
  },
  {
   "cell_type": "code",
   "execution_count": 35,
   "metadata": {},
   "outputs": [
    {
     "data": {
      "image/png": "[encoded data removed]",
      "text/plain": [
       "<Figure size 1000x500 with 1 Axes>"
      ]
     },
     "metadata": {},
     "output_type": "display_data"
    }
   ],
   "source": [
    "## Visualizing the categories\n",
    "\n",
    "plt.figure(figsize = (10, 5))\n",
    "sns.countplot(y = kickstarter_df[\"Category\"], \n",
    "              order = kickstarter_df[\"Category\"].value_counts().index, \n",
    "              palette = \"viridis\");\n",
    "plt.title(\"Number of projects per category\", fontsize = 13);"
   ]
  },
  {
   "cell_type": "markdown",
   "metadata": {},
   "source": [
    "The distribution above shows that most of the kickstarter projects are \"Film & Video\" which accounts for 16% of the projects followd by \"Music\" at 13%"
   ]
  },
  {
   "cell_type": "markdown",
   "metadata": {},
   "source": [
    "**2.4 Sub-category**\n",
    "> - Which subcategory the kickstarter project belongs to"
   ]
  },
  {
   "cell_type": "code",
   "execution_count": 64,
   "metadata": {},
   "outputs": [
    {
     "ename": "KeyboardInterrupt",
     "evalue": "",
     "output_type": "error",
     "traceback": [
      "\u001b[0;31m---------------------------------------------------------------------------\u001b[0m",
      "\u001b[0;31mKeyboardInterrupt\u001b[0m                         Traceback (most recent call last)",
      "Cell \u001b[0;32mIn[64], line 8\u001b[0m\n\u001b[1;32m      5\u001b[0m \u001b[39m## Visualizing the number of sub-categories per category\u001b[39;00m\n\u001b[1;32m      7\u001b[0m plt\u001b[39m.\u001b[39mfigure(figsize \u001b[39m=\u001b[39m (\u001b[39m10\u001b[39m, \u001b[39m5\u001b[39m))\n\u001b[0;32m----> 8\u001b[0m sns\u001b[39m.\u001b[39;49mcountplot(data \u001b[39m=\u001b[39;49m kickstarter_df[\u001b[39m\"\u001b[39;49m\u001b[39mCategory\u001b[39;49m\u001b[39m\"\u001b[39;49m],\n\u001b[1;32m      9\u001b[0m               y \u001b[39m=\u001b[39;49m kickstarter_df[\u001b[39m\"\u001b[39;49m\u001b[39mSubcategory\u001b[39;49m\u001b[39m\"\u001b[39;49m]\u001b[39m.\u001b[39;49mvalue_counts(),\n\u001b[1;32m     10\u001b[0m               order \u001b[39m=\u001b[39;49m kickstarter_df[\u001b[39m\"\u001b[39;49m\u001b[39mSubcategory\u001b[39;49m\u001b[39m\"\u001b[39;49m]\u001b[39m.\u001b[39;49mvalues,\n\u001b[1;32m     11\u001b[0m               palette \u001b[39m=\u001b[39;49m \u001b[39m\"\u001b[39;49m\u001b[39mviridis\u001b[39;49m\u001b[39m\"\u001b[39;49m);\n",
      "File \u001b[0;32m~/Library/Caches/pypoetry/virtualenvs/kickstarter-venv-L8N6CNiq-py3.11/lib/python3.11/site-packages/seaborn/categorical.py:2955\u001b[0m, in \u001b[0;36mcountplot\u001b[0;34m(data, x, y, hue, order, hue_order, orient, color, palette, saturation, width, dodge, ax, **kwargs)\u001b[0m\n\u001b[1;32m   2952\u001b[0m \u001b[39mif\u001b[39;00m ax \u001b[39mis\u001b[39;00m \u001b[39mNone\u001b[39;00m:\n\u001b[1;32m   2953\u001b[0m     ax \u001b[39m=\u001b[39m plt\u001b[39m.\u001b[39mgca()\n\u001b[0;32m-> 2955\u001b[0m plotter\u001b[39m.\u001b[39;49mplot(ax, kwargs)\n\u001b[1;32m   2956\u001b[0m \u001b[39mreturn\u001b[39;00m ax\n",
      "File \u001b[0;32m~/Library/Caches/pypoetry/virtualenvs/kickstarter-venv-L8N6CNiq-py3.11/lib/python3.11/site-packages/seaborn/categorical.py:1586\u001b[0m, in \u001b[0;36m_BarPlotter.plot\u001b[0;34m(self, ax, bar_kws)\u001b[0m\n\u001b[1;32m   1584\u001b[0m \u001b[39mdef\u001b[39;00m \u001b[39mplot\u001b[39m(\u001b[39mself\u001b[39m, ax, bar_kws):\n\u001b[1;32m   1585\u001b[0m \u001b[39m    \u001b[39m\u001b[39m\"\"\"Make the plot.\"\"\"\u001b[39;00m\n\u001b[0;32m-> 1586\u001b[0m     \u001b[39mself\u001b[39;49m\u001b[39m.\u001b[39;49mdraw_bars(ax, bar_kws)\n\u001b[1;32m   1587\u001b[0m     \u001b[39mself\u001b[39m\u001b[39m.\u001b[39mannotate_axes(ax)\n\u001b[1;32m   1588\u001b[0m     \u001b[39mif\u001b[39;00m \u001b[39mself\u001b[39m\u001b[39m.\u001b[39morient \u001b[39m==\u001b[39m \u001b[39m\"\u001b[39m\u001b[39mh\u001b[39m\u001b[39m\"\u001b[39m:\n",
      "File \u001b[0;32m~/Library/Caches/pypoetry/virtualenvs/kickstarter-venv-L8N6CNiq-py3.11/lib/python3.11/site-packages/seaborn/categorical.py:1551\u001b[0m, in \u001b[0;36m_BarPlotter.draw_bars\u001b[0;34m(self, ax, kws)\u001b[0m\n\u001b[1;32m   1546\u001b[0m barpos \u001b[39m=\u001b[39m np\u001b[39m.\u001b[39marange(\u001b[39mlen\u001b[39m(\u001b[39mself\u001b[39m\u001b[39m.\u001b[39mstatistic))\n\u001b[1;32m   1548\u001b[0m \u001b[39mif\u001b[39;00m \u001b[39mself\u001b[39m\u001b[39m.\u001b[39mplot_hues \u001b[39mis\u001b[39;00m \u001b[39mNone\u001b[39;00m:\n\u001b[1;32m   1549\u001b[0m \n\u001b[1;32m   1550\u001b[0m     \u001b[39m# Draw the bars\u001b[39;00m\n\u001b[0;32m-> 1551\u001b[0m     barfunc(barpos, \u001b[39mself\u001b[39;49m\u001b[39m.\u001b[39;49mstatistic, \u001b[39mself\u001b[39;49m\u001b[39m.\u001b[39;49mwidth,\n\u001b[1;32m   1552\u001b[0m             color\u001b[39m=\u001b[39;49m\u001b[39mself\u001b[39;49m\u001b[39m.\u001b[39;49mcolors, align\u001b[39m=\u001b[39;49m\u001b[39m\"\u001b[39;49m\u001b[39mcenter\u001b[39;49m\u001b[39m\"\u001b[39;49m, \u001b[39m*\u001b[39;49m\u001b[39m*\u001b[39;49mkws)\n\u001b[1;32m   1554\u001b[0m     \u001b[39m# Draw the confidence intervals\u001b[39;00m\n\u001b[1;32m   1555\u001b[0m     errcolors \u001b[39m=\u001b[39m [\u001b[39mself\u001b[39m\u001b[39m.\u001b[39merrcolor] \u001b[39m*\u001b[39m \u001b[39mlen\u001b[39m(barpos)\n",
      "File \u001b[0;32m~/Library/Caches/pypoetry/virtualenvs/kickstarter-venv-L8N6CNiq-py3.11/lib/python3.11/site-packages/matplotlib/axes/_axes.py:2641\u001b[0m, in \u001b[0;36mAxes.barh\u001b[0;34m(self, y, width, height, left, align, data, **kwargs)\u001b[0m\n\u001b[1;32m   2531\u001b[0m \u001b[39m\u001b[39m\u001b[39mr\u001b[39m\u001b[39m\"\"\"\u001b[39;00m\n\u001b[1;32m   2532\u001b[0m \u001b[39mMake a horizontal bar plot.\u001b[39;00m\n\u001b[1;32m   2533\u001b[0m \n\u001b[0;32m   (...)\u001b[0m\n\u001b[1;32m   2638\u001b[0m \u001b[39m:doc:`/gallery/lines_bars_and_markers/horizontal_barchart_distribution`.\u001b[39;00m\n\u001b[1;32m   2639\u001b[0m \u001b[39m\"\"\"\u001b[39;00m\n\u001b[1;32m   2640\u001b[0m kwargs\u001b[39m.\u001b[39msetdefault(\u001b[39m'\u001b[39m\u001b[39morientation\u001b[39m\u001b[39m'\u001b[39m, \u001b[39m'\u001b[39m\u001b[39mhorizontal\u001b[39m\u001b[39m'\u001b[39m)\n\u001b[0;32m-> 2641\u001b[0m patches \u001b[39m=\u001b[39m \u001b[39mself\u001b[39;49m\u001b[39m.\u001b[39;49mbar(x\u001b[39m=\u001b[39;49mleft, height\u001b[39m=\u001b[39;49mheight, width\u001b[39m=\u001b[39;49mwidth, bottom\u001b[39m=\u001b[39;49my,\n\u001b[1;32m   2642\u001b[0m                    align\u001b[39m=\u001b[39;49malign, data\u001b[39m=\u001b[39;49mdata, \u001b[39m*\u001b[39;49m\u001b[39m*\u001b[39;49mkwargs)\n\u001b[1;32m   2643\u001b[0m \u001b[39mreturn\u001b[39;00m patches\n",
      "File \u001b[0;32m~/Library/Caches/pypoetry/virtualenvs/kickstarter-venv-L8N6CNiq-py3.11/lib/python3.11/site-packages/matplotlib/__init__.py:1446\u001b[0m, in \u001b[0;36m_preprocess_data.<locals>.inner\u001b[0;34m(ax, data, *args, **kwargs)\u001b[0m\n\u001b[1;32m   1443\u001b[0m \u001b[39m@functools\u001b[39m\u001b[39m.\u001b[39mwraps(func)\n\u001b[1;32m   1444\u001b[0m \u001b[39mdef\u001b[39;00m \u001b[39minner\u001b[39m(ax, \u001b[39m*\u001b[39margs, data\u001b[39m=\u001b[39m\u001b[39mNone\u001b[39;00m, \u001b[39m*\u001b[39m\u001b[39m*\u001b[39mkwargs):\n\u001b[1;32m   1445\u001b[0m     \u001b[39mif\u001b[39;00m data \u001b[39mis\u001b[39;00m \u001b[39mNone\u001b[39;00m:\n\u001b[0;32m-> 1446\u001b[0m         \u001b[39mreturn\u001b[39;00m func(ax, \u001b[39m*\u001b[39;49m\u001b[39mmap\u001b[39;49m(sanitize_sequence, args), \u001b[39m*\u001b[39;49m\u001b[39m*\u001b[39;49mkwargs)\n\u001b[1;32m   1448\u001b[0m     bound \u001b[39m=\u001b[39m new_sig\u001b[39m.\u001b[39mbind(ax, \u001b[39m*\u001b[39margs, \u001b[39m*\u001b[39m\u001b[39m*\u001b[39mkwargs)\n\u001b[1;32m   1449\u001b[0m     auto_label \u001b[39m=\u001b[39m (bound\u001b[39m.\u001b[39marguments\u001b[39m.\u001b[39mget(label_namer)\n\u001b[1;32m   1450\u001b[0m                   \u001b[39mor\u001b[39;00m bound\u001b[39m.\u001b[39mkwargs\u001b[39m.\u001b[39mget(label_namer))\n",
      "File \u001b[0;32m~/Library/Caches/pypoetry/virtualenvs/kickstarter-venv-L8N6CNiq-py3.11/lib/python3.11/site-packages/matplotlib/axes/_axes.py:2486\u001b[0m, in \u001b[0;36mAxes.bar\u001b[0;34m(self, x, height, width, bottom, align, **kwargs)\u001b[0m\n\u001b[1;32m   2484\u001b[0m     \u001b[39melse\u001b[39;00m:  \u001b[39m# horizontal\u001b[39;00m\n\u001b[1;32m   2485\u001b[0m         r\u001b[39m.\u001b[39msticky_edges\u001b[39m.\u001b[39mx\u001b[39m.\u001b[39mappend(l)\n\u001b[0;32m-> 2486\u001b[0m     \u001b[39mself\u001b[39;49m\u001b[39m.\u001b[39;49madd_patch(r)\n\u001b[1;32m   2487\u001b[0m     patches\u001b[39m.\u001b[39mappend(r)\n\u001b[1;32m   2489\u001b[0m \u001b[39mif\u001b[39;00m xerr \u001b[39mis\u001b[39;00m \u001b[39mnot\u001b[39;00m \u001b[39mNone\u001b[39;00m \u001b[39mor\u001b[39;00m yerr \u001b[39mis\u001b[39;00m \u001b[39mnot\u001b[39;00m \u001b[39mNone\u001b[39;00m:\n",
      "File \u001b[0;32m~/Library/Caches/pypoetry/virtualenvs/kickstarter-venv-L8N6CNiq-py3.11/lib/python3.11/site-packages/matplotlib/axes/_base.py:2379\u001b[0m, in \u001b[0;36m_AxesBase.add_patch\u001b[0;34m(self, p)\u001b[0m\n\u001b[1;32m   2377\u001b[0m \u001b[39mif\u001b[39;00m p\u001b[39m.\u001b[39mget_clip_path() \u001b[39mis\u001b[39;00m \u001b[39mNone\u001b[39;00m:\n\u001b[1;32m   2378\u001b[0m     p\u001b[39m.\u001b[39mset_clip_path(\u001b[39mself\u001b[39m\u001b[39m.\u001b[39mpatch)\n\u001b[0;32m-> 2379\u001b[0m \u001b[39mself\u001b[39;49m\u001b[39m.\u001b[39;49m_update_patch_limits(p)\n\u001b[1;32m   2380\u001b[0m \u001b[39mself\u001b[39m\u001b[39m.\u001b[39m_children\u001b[39m.\u001b[39mappend(p)\n\u001b[1;32m   2381\u001b[0m p\u001b[39m.\u001b[39m_remove_method \u001b[39m=\u001b[39m \u001b[39mself\u001b[39m\u001b[39m.\u001b[39m_children\u001b[39m.\u001b[39mremove\n",
      "File \u001b[0;32m~/Library/Caches/pypoetry/virtualenvs/kickstarter-venv-L8N6CNiq-py3.11/lib/python3.11/site-packages/matplotlib/axes/_base.py:2411\u001b[0m, in \u001b[0;36m_AxesBase._update_patch_limits\u001b[0;34m(self, patch)\u001b[0m\n\u001b[1;32m   2408\u001b[0m     vertices \u001b[39m=\u001b[39m np\u001b[39m.\u001b[39mrow_stack(vertices)\n\u001b[1;32m   2410\u001b[0m patch_trf \u001b[39m=\u001b[39m patch\u001b[39m.\u001b[39mget_transform()\n\u001b[0;32m-> 2411\u001b[0m updatex, updatey \u001b[39m=\u001b[39m patch_trf\u001b[39m.\u001b[39;49mcontains_branch_seperately(\u001b[39mself\u001b[39;49m\u001b[39m.\u001b[39;49mtransData)\n\u001b[1;32m   2412\u001b[0m \u001b[39mif\u001b[39;00m \u001b[39mnot\u001b[39;00m (updatex \u001b[39mor\u001b[39;00m updatey):\n\u001b[1;32m   2413\u001b[0m     \u001b[39mreturn\u001b[39;00m\n",
      "File \u001b[0;32m~/Library/Caches/pypoetry/virtualenvs/kickstarter-venv-L8N6CNiq-py3.11/lib/python3.11/site-packages/matplotlib/transforms.py:1419\u001b[0m, in \u001b[0;36mTransform.contains_branch_seperately\u001b[0;34m(self, other_transform)\u001b[0m\n\u001b[1;32m   1415\u001b[0m     \u001b[39mraise\u001b[39;00m \u001b[39mValueError\u001b[39;00m(\u001b[39m'\u001b[39m\u001b[39mcontains_branch_seperately only supports \u001b[39m\u001b[39m'\u001b[39m\n\u001b[1;32m   1416\u001b[0m                      \u001b[39m'\u001b[39m\u001b[39mtransforms with 2 output dimensions\u001b[39m\u001b[39m'\u001b[39m)\n\u001b[1;32m   1417\u001b[0m \u001b[39m# for a non-blended transform each separate dimension is the same, so\u001b[39;00m\n\u001b[1;32m   1418\u001b[0m \u001b[39m# just return the appropriate shape.\u001b[39;00m\n\u001b[0;32m-> 1419\u001b[0m \u001b[39mreturn\u001b[39;00m [\u001b[39mself\u001b[39;49m\u001b[39m.\u001b[39;49mcontains_branch(other_transform)] \u001b[39m*\u001b[39m \u001b[39m2\u001b[39m\n",
      "File \u001b[0;32m~/Library/Caches/pypoetry/virtualenvs/kickstarter-venv-L8N6CNiq-py3.11/lib/python3.11/site-packages/matplotlib/transforms.py:1398\u001b[0m, in \u001b[0;36mTransform.contains_branch\u001b[0;34m(self, other)\u001b[0m\n\u001b[1;32m   1395\u001b[0m     \u001b[39mreturn\u001b[39;00m \u001b[39mFalse\u001b[39;00m\n\u001b[1;32m   1397\u001b[0m \u001b[39m# check that a subtree is equal to other (starting from self)\u001b[39;00m\n\u001b[0;32m-> 1398\u001b[0m \u001b[39mfor\u001b[39;00m _, sub_tree \u001b[39min\u001b[39;00m \u001b[39mself\u001b[39m\u001b[39m.\u001b[39m_iter_break_from_left_to_right():\n\u001b[1;32m   1399\u001b[0m     \u001b[39mif\u001b[39;00m sub_tree \u001b[39m==\u001b[39m other:\n\u001b[1;32m   1400\u001b[0m         \u001b[39mreturn\u001b[39;00m \u001b[39mTrue\u001b[39;00m\n",
      "File \u001b[0;32m~/Library/Caches/pypoetry/virtualenvs/kickstarter-venv-L8N6CNiq-py3.11/lib/python3.11/site-packages/matplotlib/transforms.py:2407\u001b[0m, in \u001b[0;36mCompositeGenericTransform._iter_break_from_left_to_right\u001b[0;34m(self)\u001b[0m\n\u001b[1;32m   2406\u001b[0m \u001b[39mdef\u001b[39;00m \u001b[39m_iter_break_from_left_to_right\u001b[39m(\u001b[39mself\u001b[39m):\n\u001b[0;32m-> 2407\u001b[0m     \u001b[39mfor\u001b[39;00m left, right \u001b[39min\u001b[39;00m \u001b[39mself\u001b[39m\u001b[39m.\u001b[39m_a\u001b[39m.\u001b[39m_iter_break_from_left_to_right():\n\u001b[1;32m   2408\u001b[0m         \u001b[39myield\u001b[39;00m left, right \u001b[39m+\u001b[39m \u001b[39mself\u001b[39m\u001b[39m.\u001b[39m_b\n\u001b[1;32m   2409\u001b[0m     \u001b[39mfor\u001b[39;00m left, right \u001b[39min\u001b[39;00m \u001b[39mself\u001b[39m\u001b[39m.\u001b[39m_b\u001b[39m.\u001b[39m_iter_break_from_left_to_right():\n",
      "File \u001b[0;32m~/Library/Caches/pypoetry/virtualenvs/kickstarter-venv-L8N6CNiq-py3.11/lib/python3.11/site-packages/matplotlib/transforms.py:2408\u001b[0m, in \u001b[0;36mCompositeGenericTransform._iter_break_from_left_to_right\u001b[0;34m(self)\u001b[0m\n\u001b[1;32m   2406\u001b[0m \u001b[39mdef\u001b[39;00m \u001b[39m_iter_break_from_left_to_right\u001b[39m(\u001b[39mself\u001b[39m):\n\u001b[1;32m   2407\u001b[0m     \u001b[39mfor\u001b[39;00m left, right \u001b[39min\u001b[39;00m \u001b[39mself\u001b[39m\u001b[39m.\u001b[39m_a\u001b[39m.\u001b[39m_iter_break_from_left_to_right():\n\u001b[0;32m-> 2408\u001b[0m         \u001b[39myield\u001b[39;00m left, right \u001b[39m+\u001b[39;49m \u001b[39mself\u001b[39;49m\u001b[39m.\u001b[39;49m_b\n\u001b[1;32m   2409\u001b[0m     \u001b[39mfor\u001b[39;00m left, right \u001b[39min\u001b[39;00m \u001b[39mself\u001b[39m\u001b[39m.\u001b[39m_b\u001b[39m.\u001b[39m_iter_break_from_left_to_right():\n\u001b[1;32m   2410\u001b[0m         \u001b[39myield\u001b[39;00m \u001b[39mself\u001b[39m\u001b[39m.\u001b[39m_a \u001b[39m+\u001b[39m left, right\n",
      "File \u001b[0;32m~/Library/Caches/pypoetry/virtualenvs/kickstarter-venv-L8N6CNiq-py3.11/lib/python3.11/site-packages/matplotlib/transforms.py:1350\u001b[0m, in \u001b[0;36mTransform.__add__\u001b[0;34m(self, other)\u001b[0m\n\u001b[1;32m   1343\u001b[0m \u001b[39mdef\u001b[39;00m \u001b[39m__add__\u001b[39m(\u001b[39mself\u001b[39m, other):\n\u001b[1;32m   1344\u001b[0m \u001b[39m    \u001b[39m\u001b[39m\"\"\"\u001b[39;00m\n\u001b[1;32m   1345\u001b[0m \u001b[39m    Compose two transforms together so that *self* is followed by *other*.\u001b[39;00m\n\u001b[1;32m   1346\u001b[0m \n\u001b[1;32m   1347\u001b[0m \u001b[39m    ``A + B`` returns a transform ``C`` so that\u001b[39;00m\n\u001b[1;32m   1348\u001b[0m \u001b[39m    ``C.transform(x) == B.transform(A.transform(x))``.\u001b[39;00m\n\u001b[1;32m   1349\u001b[0m \u001b[39m    \"\"\"\u001b[39;00m\n\u001b[0;32m-> 1350\u001b[0m     \u001b[39mreturn\u001b[39;00m (composite_transform_factory(\u001b[39mself\u001b[39;49m, other)\n\u001b[1;32m   1351\u001b[0m             \u001b[39mif\u001b[39;00m \u001b[39misinstance\u001b[39m(other, Transform) \u001b[39melse\u001b[39;00m\n\u001b[1;32m   1352\u001b[0m             \u001b[39mNotImplemented\u001b[39m)\n",
      "File \u001b[0;32m~/Library/Caches/pypoetry/virtualenvs/kickstarter-venv-L8N6CNiq-py3.11/lib/python3.11/site-packages/matplotlib/transforms.py:2535\u001b[0m, in \u001b[0;36mcomposite_transform_factory\u001b[0;34m(a, b)\u001b[0m\n\u001b[1;32m   2533\u001b[0m \u001b[39melif\u001b[39;00m \u001b[39misinstance\u001b[39m(a, Affine2D) \u001b[39mand\u001b[39;00m \u001b[39misinstance\u001b[39m(b, Affine2D):\n\u001b[1;32m   2534\u001b[0m     \u001b[39mreturn\u001b[39;00m CompositeAffine2D(a, b)\n\u001b[0;32m-> 2535\u001b[0m \u001b[39mreturn\u001b[39;00m CompositeGenericTransform(a, b)\n",
      "File \u001b[0;32m~/Library/Caches/pypoetry/virtualenvs/kickstarter-venv-L8N6CNiq-py3.11/lib/python3.11/site-packages/matplotlib/transforms.py:2370\u001b[0m, in \u001b[0;36mCompositeGenericTransform.__init__\u001b[0;34m(self, a, b, **kwargs)\u001b[0m\n\u001b[1;32m   2367\u001b[0m \u001b[39mself\u001b[39m\u001b[39m.\u001b[39minput_dims \u001b[39m=\u001b[39m a\u001b[39m.\u001b[39minput_dims\n\u001b[1;32m   2368\u001b[0m \u001b[39mself\u001b[39m\u001b[39m.\u001b[39moutput_dims \u001b[39m=\u001b[39m b\u001b[39m.\u001b[39moutput_dims\n\u001b[0;32m-> 2370\u001b[0m \u001b[39msuper\u001b[39m()\u001b[39m.\u001b[39m\u001b[39m__init__\u001b[39m(\u001b[39m*\u001b[39m\u001b[39m*\u001b[39mkwargs)\n\u001b[1;32m   2371\u001b[0m \u001b[39mself\u001b[39m\u001b[39m.\u001b[39m_a \u001b[39m=\u001b[39m a\n\u001b[1;32m   2372\u001b[0m \u001b[39mself\u001b[39m\u001b[39m.\u001b[39m_b \u001b[39m=\u001b[39m b\n",
      "\u001b[0;31mKeyboardInterrupt\u001b[0m: "
     ]
    }
   ],
   "source": [
    "## Number of sub-categories in each category\n",
    "\n",
    "kickstarter_df.groupby(\"Category\")[\"Subcategory\"].nunique().sort_values(ascending = False)\n",
    "\n",
    "## Visualizing the number of sub-categories per category\n",
    "\n",
    "plt.figure(figsize = (10, 5))\n",
    "sns.countplot(data = kickstarter_df[\"Category\"],\n",
    "              y = kickstarter_df[\"Subcategory\"].value_counts(),\n",
    "              order = kickstarter_df[\"Subcategory\"].value_counts().index,\n",
    "              palette = \"viridis\");\n",
    "\n",
    "              "
   ]
  }
 ],
 "metadata": {
  "kernelspec": {
   "display_name": "kickstarter-venv-L8N6CNiq-py3.11",
   "language": "python",
   "name": "python3"
  },
  "language_info": {
   "codemirror_mode": {
    "name": "ipython",
    "version": 3
   },
   "file_extension": ".py",
   "mimetype": "text/x-python",
   "name": "python",
   "nbconvert_exporter": "python",
   "pygments_lexer": "ipython3",
   "version": "3.11.3"
  },
  "orig_nbformat": 4
 },
 "nbformat": 4,
 "nbformat_minor": 2
}
